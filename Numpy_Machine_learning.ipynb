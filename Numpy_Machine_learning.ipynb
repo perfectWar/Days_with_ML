{
 "cells": [
  {
   "cell_type": "markdown",
   "id": "a90215ad",
   "metadata": {},
   "source": [
    "# Numpy for Machine Learning\n",
    "Numpy is the core library for scientific computing in Python. It provides a high-performance multidimensional array object, and tools for working with these arrays."
   ]
  },
  {
   "cell_type": "markdown",
   "id": "0b0d41cb",
   "metadata": {},
   "source": [
    "# Python Lists:\n",
    "• The list can be homogeneous or heterogeneous.\n",
    "• Element wise operation is not possible on the list.\n",
    "• Python list is by default 4 dimensional. But we can create an N-Dimensional list. But then too it will be 4 D list storing another 4D list\n",
    "• Elements of a list need not be contiguous in memory."
   ]
  },
  {
   "cell_type": "markdown",
   "id": "e81521ff",
   "metadata": {},
   "source": [
    "# Numpy\n",
    "• consumes less memory.\n",
    "• fast as compared to the python List.\n",
    "• convenient to use."
   ]
  },
  {
   "cell_type": "code",
   "execution_count": 1,
   "id": "cb954286",
   "metadata": {},
   "outputs": [],
   "source": [
    "import numpy as np"
   ]
  },
  {
   "cell_type": "code",
   "execution_count": 2,
   "id": "50ad494a",
   "metadata": {},
   "outputs": [
    {
     "data": {
      "text/plain": [
       "'1.24.4'"
      ]
     },
     "execution_count": 2,
     "metadata": {},
     "output_type": "execute_result"
    }
   ],
   "source": [
    "np.__version__"
   ]
  },
  {
   "cell_type": "code",
   "execution_count": 3,
   "id": "d4f1f3e3",
   "metadata": {},
   "outputs": [],
   "source": [
    "x = np.random.randint(10,size=(3,4,5)) # 10 is for number generating between 0-9"
   ]
  },
  {
   "cell_type": "code",
   "execution_count": 4,
   "id": "83d4a1c4",
   "metadata": {},
   "outputs": [
    {
     "data": {
      "text/plain": [
       "array([[[2, 3, 7, 2, 3],\n",
       "        [2, 5, 3, 0, 7],\n",
       "        [5, 1, 2, 3, 2],\n",
       "        [7, 9, 0, 4, 9]],\n",
       "\n",
       "       [[1, 3, 3, 6, 6],\n",
       "        [7, 7, 8, 7, 6],\n",
       "        [0, 7, 7, 7, 4],\n",
       "        [2, 7, 9, 3, 3]],\n",
       "\n",
       "       [[3, 6, 6, 4, 7],\n",
       "        [3, 6, 6, 2, 8],\n",
       "        [9, 8, 3, 2, 5],\n",
       "        [6, 2, 2, 0, 1]]])"
      ]
     },
     "execution_count": 4,
     "metadata": {},
     "output_type": "execute_result"
    }
   ],
   "source": [
    "x"
   ]
  },
  {
   "cell_type": "code",
   "execution_count": 5,
   "id": "794cce26",
   "metadata": {},
   "outputs": [
    {
     "data": {
      "text/plain": [
       "(3, 4, 5)"
      ]
     },
     "execution_count": 5,
     "metadata": {},
     "output_type": "execute_result"
    }
   ],
   "source": [
    "x.shape "
   ]
  },
  {
   "cell_type": "code",
   "execution_count": 6,
   "id": "079558c2",
   "metadata": {},
   "outputs": [
    {
     "data": {
      "text/plain": [
       "60"
      ]
     },
     "execution_count": 6,
     "metadata": {},
     "output_type": "execute_result"
    }
   ],
   "source": [
    "x.size #number of elements in the array "
   ]
  },
  {
   "cell_type": "code",
   "execution_count": 7,
   "id": "b8f5ff9b",
   "metadata": {},
   "outputs": [
    {
     "data": {
      "text/plain": [
       "3"
      ]
     },
     "execution_count": 7,
     "metadata": {},
     "output_type": "execute_result"
    }
   ],
   "source": [
    "x.ndim #dimension"
   ]
  },
  {
   "cell_type": "code",
   "execution_count": 8,
   "id": "20db4538",
   "metadata": {},
   "outputs": [
    {
     "data": {
      "text/plain": [
       "dtype('int32')"
      ]
     },
     "execution_count": 8,
     "metadata": {},
     "output_type": "execute_result"
    }
   ],
   "source": [
    "x.dtype #data type of integers "
   ]
  },
  {
   "cell_type": "code",
   "execution_count": 9,
   "id": "88a71a26",
   "metadata": {},
   "outputs": [
    {
     "data": {
      "text/plain": [
       "4"
      ]
     },
     "execution_count": 9,
     "metadata": {},
     "output_type": "execute_result"
    }
   ],
   "source": [
    "x.itemsize # 4 is bytes "
   ]
  },
  {
   "cell_type": "code",
   "execution_count": 10,
   "id": "043fad14",
   "metadata": {},
   "outputs": [
    {
     "data": {
      "text/plain": [
       "240"
      ]
     },
     "execution_count": 10,
     "metadata": {},
     "output_type": "execute_result"
    }
   ],
   "source": [
    "x.nbytes # 4 * 60 = 240 Total size of array elements "
   ]
  },
  {
   "cell_type": "markdown",
   "id": "1e1744b7",
   "metadata": {},
   "source": [
    "# Creating Array"
   ]
  },
  {
   "cell_type": "code",
   "execution_count": 11,
   "id": "e31470e3",
   "metadata": {},
   "outputs": [],
   "source": [
    "# np.array(object, dtype=None, copy=True, order='k', subok=False, ndim=0)"
   ]
  },
  {
   "cell_type": "code",
   "execution_count": 13,
   "id": "3aacde7a",
   "metadata": {},
   "outputs": [],
   "source": [
    "x = np.array(object=[1,2,3,4,5])"
   ]
  },
  {
   "cell_type": "code",
   "execution_count": 14,
   "id": "d1c429ef",
   "metadata": {},
   "outputs": [
    {
     "data": {
      "text/plain": [
       "numpy.ndarray"
      ]
     },
     "execution_count": 14,
     "metadata": {},
     "output_type": "execute_result"
    }
   ],
   "source": [
    "type(x)"
   ]
  },
  {
   "cell_type": "code",
   "execution_count": 15,
   "id": "213a4323",
   "metadata": {},
   "outputs": [
    {
     "data": {
      "text/plain": [
       "array([1, 2, 3, 4, 5])"
      ]
     },
     "execution_count": 15,
     "metadata": {},
     "output_type": "execute_result"
    }
   ],
   "source": [
    "x"
   ]
  },
  {
   "cell_type": "code",
   "execution_count": 16,
   "id": "de815f6b",
   "metadata": {},
   "outputs": [
    {
     "data": {
      "text/plain": [
       "dtype('int32')"
      ]
     },
     "execution_count": 16,
     "metadata": {},
     "output_type": "execute_result"
    }
   ],
   "source": [
    "x.dtype"
   ]
  },
  {
   "cell_type": "code",
   "execution_count": 17,
   "id": "a2b0efe2",
   "metadata": {},
   "outputs": [],
   "source": [
    "x = np.array(object=[1,2,3,4,5], dtype = complex)"
   ]
  },
  {
   "cell_type": "code",
   "execution_count": 18,
   "id": "b70710c8",
   "metadata": {},
   "outputs": [
    {
     "data": {
      "text/plain": [
       "dtype('complex128')"
      ]
     },
     "execution_count": 18,
     "metadata": {},
     "output_type": "execute_result"
    }
   ],
   "source": [
    "x.dtype"
   ]
  },
  {
   "cell_type": "code",
   "execution_count": 19,
   "id": "7f3991a8",
   "metadata": {},
   "outputs": [
    {
     "data": {
      "text/plain": [
       "array([1.+0.j, 2.+0.j, 3.+0.j, 4.+0.j, 5.+0.j])"
      ]
     },
     "execution_count": 19,
     "metadata": {},
     "output_type": "execute_result"
    }
   ],
   "source": [
    "x"
   ]
  },
  {
   "cell_type": "code",
   "execution_count": 20,
   "id": "49caf5f9",
   "metadata": {},
   "outputs": [
    {
     "data": {
      "text/plain": [
       "array([1, 2, 3, 4, 5, 6, 7])"
      ]
     },
     "execution_count": 20,
     "metadata": {},
     "output_type": "execute_result"
    }
   ],
   "source": [
    "y = np.array((1,2,3,4,5,6,7))\n",
    "y"
   ]
  },
  {
   "cell_type": "code",
   "execution_count": 21,
   "id": "308adbc1",
   "metadata": {},
   "outputs": [
    {
     "data": {
      "text/plain": [
       "numpy.ndarray"
      ]
     },
     "execution_count": 21,
     "metadata": {},
     "output_type": "execute_result"
    }
   ],
   "source": [
    "type(y)"
   ]
  },
  {
   "cell_type": "markdown",
   "id": "a5fcf9e2",
   "metadata": {},
   "source": [
    "# Create Array from Scratch"
   ]
  },
  {
   "cell_type": "code",
   "execution_count": 23,
   "id": "d4364a2e",
   "metadata": {},
   "outputs": [
    {
     "data": {
      "text/plain": [
       "array([[0, 0, 0, 0, 0],\n",
       "       [0, 0, 0, 0, 0],\n",
       "       [0, 0, 0, 0, 0],\n",
       "       [0, 0, 0, 0, 0]])"
      ]
     },
     "execution_count": 23,
     "metadata": {},
     "output_type": "execute_result"
    }
   ],
   "source": [
    "np.zeros((4,5), dtype='int') #return a new array of given shape and type, filled with zeroes."
   ]
  },
  {
   "cell_type": "code",
   "execution_count": 25,
   "id": "6a370452",
   "metadata": {},
   "outputs": [
    {
     "data": {
      "text/plain": [
       "array([[1., 1., 1.],\n",
       "       [1., 1., 1.],\n",
       "       [1., 1., 1.]])"
      ]
     },
     "execution_count": 25,
     "metadata": {},
     "output_type": "execute_result"
    }
   ],
   "source": [
    "np.ones((3,3)) #array filled with 1 of given shape"
   ]
  },
  {
   "cell_type": "code",
   "execution_count": 27,
   "id": "9b330d8c",
   "metadata": {},
   "outputs": [
    {
     "data": {
      "text/plain": [
       "array([[3.1456, 3.1456, 3.1456, 3.1456, 3.1456],\n",
       "       [3.1456, 3.1456, 3.1456, 3.1456, 3.1456],\n",
       "       [3.1456, 3.1456, 3.1456, 3.1456, 3.1456],\n",
       "       [3.1456, 3.1456, 3.1456, 3.1456, 3.1456]])"
      ]
     },
     "execution_count": 27,
     "metadata": {},
     "output_type": "execute_result"
    }
   ],
   "source": [
    "np.full(shape=(4,5),fill_value= 3.1456) #array filled with given value of given shape"
   ]
  },
  {
   "cell_type": "code",
   "execution_count": 28,
   "id": "bcb9d5cc",
   "metadata": {},
   "outputs": [
    {
     "data": {
      "text/plain": [
       "array([ 0,  2,  4,  6,  8, 10, 12, 14, 16, 18])"
      ]
     },
     "execution_count": 28,
     "metadata": {},
     "output_type": "execute_result"
    }
   ],
   "source": [
    "np.arange(0,20,2) #generate the array of numbers between 0-20 with step size of 2"
   ]
  },
  {
   "cell_type": "code",
   "execution_count": 29,
   "id": "f45a5cf8",
   "metadata": {},
   "outputs": [
    {
     "data": {
      "text/plain": [
       "array([0.  , 0.25, 0.5 , 0.75, 1.  ])"
      ]
     },
     "execution_count": 29,
     "metadata": {},
     "output_type": "execute_result"
    }
   ],
   "source": [
    "np.linspace(0,1,5) #5 equal space value between 0-1"
   ]
  },
  {
   "cell_type": "code",
   "execution_count": 30,
   "id": "1ebc8a3f",
   "metadata": {},
   "outputs": [
    {
     "data": {
      "text/plain": [
       "array([[0.44189552, 0.04833221, 0.89977438],\n",
       "       [0.62411554, 0.73288846, 0.12270788],\n",
       "       [0.07848525, 0.79832875, 0.61568384]])"
      ]
     },
     "execution_count": 30,
     "metadata": {},
     "output_type": "execute_result"
    }
   ],
   "source": [
    "np.random.random((3,3)) #uniform distribution"
   ]
  },
  {
   "cell_type": "code",
   "execution_count": 31,
   "id": "4f1d3d9f",
   "metadata": {},
   "outputs": [
    {
     "data": {
      "text/plain": [
       "array([[-1.04775043,  0.18312525,  0.01056933],\n",
       "       [ 0.52815911, -0.39500118,  0.73273239],\n",
       "       [-1.94545169,  1.13607057,  0.3887723 ]])"
      ]
     },
     "execution_count": 31,
     "metadata": {},
     "output_type": "execute_result"
    }
   ],
   "source": [
    "np.random.normal(0,1,(3,3)) #generate normal random value between 0-1 of shape (3,3)"
   ]
  },
  {
   "cell_type": "code",
   "execution_count": 32,
   "id": "b48b6052",
   "metadata": {},
   "outputs": [
    {
     "data": {
      "text/plain": [
       "array([[22, 33, 73],\n",
       "       [61, 39, 34]])"
      ]
     },
     "execution_count": 32,
     "metadata": {},
     "output_type": "execute_result"
    }
   ],
   "source": [
    "np.random.randint(10,100,size=(2,3)) #generated number between 10-100 of shape(2,3)"
   ]
  },
  {
   "cell_type": "code",
   "execution_count": 33,
   "id": "ae5ae3ca",
   "metadata": {},
   "outputs": [
    {
     "data": {
      "text/plain": [
       "array([[1., 0., 0., 0.],\n",
       "       [0., 1., 0., 0.],\n",
       "       [0., 0., 1., 0.],\n",
       "       [0., 0., 0., 1.]])"
      ]
     },
     "execution_count": 33,
     "metadata": {},
     "output_type": "execute_result"
    }
   ],
   "source": [
    "np.eye(4) #identity matrix"
   ]
  },
  {
   "cell_type": "code",
   "execution_count": 35,
   "id": "29e967f2",
   "metadata": {},
   "outputs": [
    {
     "data": {
      "text/plain": [
       "array([[1.16720962e-311, 2.86558075e-322, 0.00000000e+000,\n",
       "        0.00000000e+000],\n",
       "       [1.18831764e-312, 8.60952352e-072, 5.58407983e-091,\n",
       "        1.68742789e+160],\n",
       "       [1.26141891e-076, 1.25780646e-071, 6.48224659e+170,\n",
       "        5.82471487e+257]])"
      ]
     },
     "execution_count": 35,
     "metadata": {},
     "output_type": "execute_result"
    }
   ],
   "source": [
    "np.empty((3,4)) #new array of given shape without initializing (number which are currently present in memory)"
   ]
  },
  {
   "cell_type": "markdown",
   "id": "9f25483b",
   "metadata": {},
   "source": [
    "# Indexing and Slicing"
   ]
  },
  {
   "cell_type": "code",
   "execution_count": 36,
   "id": "1a0df5d9",
   "metadata": {},
   "outputs": [],
   "source": [
    "# Data type for a numpy array of numerical value are:-\n",
    "#     1. bool\n",
    "#     2. int\n",
    "#     3. complex\n",
    "#     4. float\n",
    "# for the string:-\n",
    "#     1. object"
   ]
  },
  {
   "cell_type": "code",
   "execution_count": 37,
   "id": "958050a4",
   "metadata": {},
   "outputs": [
    {
     "data": {
      "text/plain": [
       "array([[52, 70, 66],\n",
       "       [72, 53, 57],\n",
       "       [10, 84, 57],\n",
       "       [19, 57, 27]])"
      ]
     },
     "execution_count": 37,
     "metadata": {},
     "output_type": "execute_result"
    }
   ],
   "source": [
    "x = np.random.randint(10,100,(4,3))\n",
    "x"
   ]
  },
  {
   "cell_type": "code",
   "execution_count": 38,
   "id": "e7c994b8",
   "metadata": {},
   "outputs": [
    {
     "data": {
      "text/plain": [
       "57"
      ]
     },
     "execution_count": 38,
     "metadata": {},
     "output_type": "execute_result"
    }
   ],
   "source": [
    "x[1,2] #same as x[1][2] "
   ]
  },
  {
   "cell_type": "code",
   "execution_count": 40,
   "id": "55d2dcad",
   "metadata": {},
   "outputs": [
    {
     "data": {
      "text/plain": [
       "10"
      ]
     },
     "execution_count": 40,
     "metadata": {},
     "output_type": "execute_result"
    }
   ],
   "source": [
    "x[2,0]"
   ]
  },
  {
   "cell_type": "code",
   "execution_count": 41,
   "id": "50ce796d",
   "metadata": {},
   "outputs": [
    {
     "data": {
      "text/plain": [
       "array([10, 84, 57])"
      ]
     },
     "execution_count": 41,
     "metadata": {},
     "output_type": "execute_result"
    }
   ],
   "source": [
    "x[2]"
   ]
  },
  {
   "cell_type": "code",
   "execution_count": 43,
   "id": "03b9cbc3",
   "metadata": {},
   "outputs": [
    {
     "data": {
      "text/plain": [
       "array([19, 57, 27])"
      ]
     },
     "execution_count": 43,
     "metadata": {},
     "output_type": "execute_result"
    }
   ],
   "source": [
    "x[-1]"
   ]
  },
  {
   "cell_type": "code",
   "execution_count": 44,
   "id": "850648c5",
   "metadata": {},
   "outputs": [
    {
     "data": {
      "text/plain": [
       "57"
      ]
     },
     "execution_count": 44,
     "metadata": {},
     "output_type": "execute_result"
    }
   ],
   "source": [
    "x[-2,-1] # -2 = second last row, -1 = last element"
   ]
  },
  {
   "cell_type": "code",
   "execution_count": 45,
   "id": "b91d6a3d",
   "metadata": {},
   "outputs": [],
   "source": [
    "# x[start:end:stepsize,start:end:stepsize]"
   ]
  },
  {
   "cell_type": "code",
   "execution_count": 46,
   "id": "2f57f764",
   "metadata": {},
   "outputs": [
    {
     "data": {
      "text/plain": [
       "array([[72, 53, 57],\n",
       "       [10, 84, 57],\n",
       "       [19, 57, 27]])"
      ]
     },
     "execution_count": 46,
     "metadata": {},
     "output_type": "execute_result"
    }
   ],
   "source": [
    "x[1:4]"
   ]
  },
  {
   "cell_type": "code",
   "execution_count": 49,
   "id": "2e06845c",
   "metadata": {},
   "outputs": [
    {
     "data": {
      "text/plain": [
       "array([[53, 57],\n",
       "       [84, 57]])"
      ]
     },
     "execution_count": 49,
     "metadata": {},
     "output_type": "execute_result"
    }
   ],
   "source": [
    "x[1:3,1:3] #row,column"
   ]
  },
  {
   "cell_type": "code",
   "execution_count": 50,
   "id": "608078d4",
   "metadata": {},
   "outputs": [],
   "source": [
    "y = np.random.randint(0,1000,(7,7))"
   ]
  },
  {
   "cell_type": "code",
   "execution_count": 51,
   "id": "46d1b772",
   "metadata": {},
   "outputs": [
    {
     "data": {
      "text/plain": [
       "array([[195, 747, 148, 210, 529, 957, 732],\n",
       "       [891,  79,  70, 176, 933,  64, 350],\n",
       "       [ 76, 576, 773, 532, 907, 248, 278],\n",
       "       [ 17, 925, 375,  40,   2, 180, 296],\n",
       "       [345, 934, 809, 318, 247, 572, 908],\n",
       "       [425, 629, 406, 810, 391, 109, 951],\n",
       "       [357, 377, 367, 568, 447, 243, 645]])"
      ]
     },
     "execution_count": 51,
     "metadata": {},
     "output_type": "execute_result"
    }
   ],
   "source": [
    "y #get the value of 773,375,809,406"
   ]
  },
  {
   "cell_type": "code",
   "execution_count": 55,
   "id": "eb41ead6",
   "metadata": {},
   "outputs": [
    {
     "data": {
      "text/plain": [
       "array([773, 375, 809, 406])"
      ]
     },
     "execution_count": 55,
     "metadata": {},
     "output_type": "execute_result"
    }
   ],
   "source": [
    "y[2:6,2]"
   ]
  },
  {
   "cell_type": "code",
   "execution_count": 56,
   "id": "d883499b",
   "metadata": {},
   "outputs": [
    {
     "data": {
      "text/plain": [
       "array([[ 79, 176,  64],\n",
       "       [925,  40, 180],\n",
       "       [629, 810, 109]])"
      ]
     },
     "execution_count": 56,
     "metadata": {},
     "output_type": "execute_result"
    }
   ],
   "source": [
    "y[1:7:2,1:7:2]"
   ]
  },
  {
   "cell_type": "markdown",
   "id": "4e40186c",
   "metadata": {},
   "source": [
    "# Array slicing as views"
   ]
  },
  {
   "cell_type": "code",
   "execution_count": 57,
   "id": "0b60fef1",
   "metadata": {},
   "outputs": [
    {
     "data": {
      "text/plain": [
       "array([[195, 747, 148, 210, 529, 957, 732],\n",
       "       [891,  79,  70, 176, 933,  64, 350],\n",
       "       [ 76, 576, 773, 532, 907, 248, 278],\n",
       "       [ 17, 925, 375,  40,   2, 180, 296],\n",
       "       [345, 934, 809, 318, 247, 572, 908],\n",
       "       [425, 629, 406, 810, 391, 109, 951],\n",
       "       [357, 377, 367, 568, 447, 243, 645]])"
      ]
     },
     "execution_count": 57,
     "metadata": {},
     "output_type": "execute_result"
    }
   ],
   "source": [
    "y"
   ]
  },
  {
   "cell_type": "code",
   "execution_count": 58,
   "id": "83f1affa",
   "metadata": {},
   "outputs": [],
   "source": [
    "a = y[1:7:2,1:7:2]"
   ]
  },
  {
   "cell_type": "code",
   "execution_count": 59,
   "id": "fb07dc69",
   "metadata": {},
   "outputs": [
    {
     "data": {
      "text/plain": [
       "array([[ 79, 176,  64],\n",
       "       [925,  40, 180],\n",
       "       [629, 810, 109]])"
      ]
     },
     "execution_count": 59,
     "metadata": {},
     "output_type": "execute_result"
    }
   ],
   "source": [
    "a"
   ]
  },
  {
   "cell_type": "code",
   "execution_count": 60,
   "id": "3ed0d085",
   "metadata": {},
   "outputs": [],
   "source": [
    "a[0,0] = 999"
   ]
  },
  {
   "cell_type": "code",
   "execution_count": 61,
   "id": "8c8c32f2",
   "metadata": {},
   "outputs": [
    {
     "data": {
      "text/plain": [
       "array([[999, 176,  64],\n",
       "       [925,  40, 180],\n",
       "       [629, 810, 109]])"
      ]
     },
     "execution_count": 61,
     "metadata": {},
     "output_type": "execute_result"
    }
   ],
   "source": [
    "a"
   ]
  },
  {
   "cell_type": "code",
   "execution_count": 62,
   "id": "c443bff9",
   "metadata": {},
   "outputs": [
    {
     "data": {
      "text/plain": [
       "array([[195, 747, 148, 210, 529, 957, 732],\n",
       "       [891, 999,  70, 176, 933,  64, 350],\n",
       "       [ 76, 576, 773, 532, 907, 248, 278],\n",
       "       [ 17, 925, 375,  40,   2, 180, 296],\n",
       "       [345, 934, 809, 318, 247, 572, 908],\n",
       "       [425, 629, 406, 810, 391, 109, 951],\n",
       "       [357, 377, 367, 568, 447, 243, 645]])"
      ]
     },
     "execution_count": 62,
     "metadata": {},
     "output_type": "execute_result"
    }
   ],
   "source": [
    "y #change in original value of array"
   ]
  },
  {
   "cell_type": "code",
   "execution_count": 63,
   "id": "6f262730",
   "metadata": {},
   "outputs": [],
   "source": [
    "a = y[1:7:2,1:7:2].copy()"
   ]
  },
  {
   "cell_type": "code",
   "execution_count": 64,
   "id": "52d7e442",
   "metadata": {},
   "outputs": [
    {
     "data": {
      "text/plain": [
       "array([[999, 176,  64],\n",
       "       [925,  40, 180],\n",
       "       [629, 810, 109]])"
      ]
     },
     "execution_count": 64,
     "metadata": {},
     "output_type": "execute_result"
    }
   ],
   "source": [
    "a"
   ]
  },
  {
   "cell_type": "code",
   "execution_count": 65,
   "id": "f296a1b7",
   "metadata": {},
   "outputs": [],
   "source": [
    "a[0,1] = 20"
   ]
  },
  {
   "cell_type": "code",
   "execution_count": 66,
   "id": "2fd666c4",
   "metadata": {},
   "outputs": [
    {
     "data": {
      "text/plain": [
       "array([[999,  20,  64],\n",
       "       [925,  40, 180],\n",
       "       [629, 810, 109]])"
      ]
     },
     "execution_count": 66,
     "metadata": {},
     "output_type": "execute_result"
    }
   ],
   "source": [
    "a"
   ]
  },
  {
   "cell_type": "code",
   "execution_count": 67,
   "id": "3fe5457b",
   "metadata": {},
   "outputs": [
    {
     "data": {
      "text/plain": [
       "array([[195, 747, 148, 210, 529, 957, 732],\n",
       "       [891, 999,  70, 176, 933,  64, 350],\n",
       "       [ 76, 576, 773, 532, 907, 248, 278],\n",
       "       [ 17, 925, 375,  40,   2, 180, 296],\n",
       "       [345, 934, 809, 318, 247, 572, 908],\n",
       "       [425, 629, 406, 810, 391, 109, 951],\n",
       "       [357, 377, 367, 568, 447, 243, 645]])"
      ]
     },
     "execution_count": 67,
     "metadata": {},
     "output_type": "execute_result"
    }
   ],
   "source": [
    "y #no change "
   ]
  },
  {
   "cell_type": "code",
   "execution_count": 68,
   "id": "08bac11a",
   "metadata": {},
   "outputs": [
    {
     "data": {
      "text/plain": [
       "(7, 7)"
      ]
     },
     "execution_count": 68,
     "metadata": {},
     "output_type": "execute_result"
    }
   ],
   "source": [
    "y.shape"
   ]
  },
  {
   "cell_type": "code",
   "execution_count": 75,
   "id": "44f13e60",
   "metadata": {},
   "outputs": [],
   "source": [
    "np.random.seed(3) #fixed the value of the array which is generated random\n",
    "z = np.random.randint(0,100,(5,3))"
   ]
  },
  {
   "cell_type": "code",
   "execution_count": 76,
   "id": "971ece81",
   "metadata": {},
   "outputs": [
    {
     "data": {
      "text/plain": [
       "array([[24,  3, 56],\n",
       "       [72,  0, 21],\n",
       "       [19, 74, 41],\n",
       "       [10, 21, 38],\n",
       "       [96, 20, 44]])"
      ]
     },
     "execution_count": 76,
     "metadata": {},
     "output_type": "execute_result"
    }
   ],
   "source": [
    "z"
   ]
  },
  {
   "cell_type": "code",
   "execution_count": 77,
   "id": "e4642e5b",
   "metadata": {},
   "outputs": [
    {
     "data": {
      "text/plain": [
       "array([[24,  3, 56, 72,  0],\n",
       "       [21, 19, 74, 41, 10],\n",
       "       [21, 38, 96, 20, 44]])"
      ]
     },
     "execution_count": 77,
     "metadata": {},
     "output_type": "execute_result"
    }
   ],
   "source": [
    "z.reshape(3,5) #new shape but the number of element should be same"
   ]
  },
  {
   "cell_type": "code",
   "execution_count": 78,
   "id": "36301624",
   "metadata": {},
   "outputs": [],
   "source": [
    "# z.reshape(3,6) shows the error which is that number of element is change"
   ]
  },
  {
   "cell_type": "code",
   "execution_count": 79,
   "id": "185b96d0",
   "metadata": {},
   "outputs": [],
   "source": [
    "#concatenate\n",
    "np.random.seed(3)\n",
    "a = np.random.randint(0,100,(2,3))\n",
    "b = np.random.randint(5,500,(2,3))"
   ]
  },
  {
   "cell_type": "code",
   "execution_count": 80,
   "id": "4d141592",
   "metadata": {},
   "outputs": [
    {
     "data": {
      "text/plain": [
       "array([[24,  3, 56],\n",
       "       [72,  0, 21]])"
      ]
     },
     "execution_count": 80,
     "metadata": {},
     "output_type": "execute_result"
    }
   ],
   "source": [
    "a"
   ]
  },
  {
   "cell_type": "code",
   "execution_count": 81,
   "id": "108487ea",
   "metadata": {},
   "outputs": [
    {
     "data": {
      "text/plain": [
       "array([[152, 207, 368],\n",
       "       [174, 143, 410]])"
      ]
     },
     "execution_count": 81,
     "metadata": {},
     "output_type": "execute_result"
    }
   ],
   "source": [
    "b"
   ]
  },
  {
   "cell_type": "code",
   "execution_count": 82,
   "id": "1729f892",
   "metadata": {},
   "outputs": [
    {
     "data": {
      "text/plain": [
       "array([[ 24,   3,  56],\n",
       "       [ 72,   0,  21],\n",
       "       [152, 207, 368],\n",
       "       [174, 143, 410]])"
      ]
     },
     "execution_count": 82,
     "metadata": {},
     "output_type": "execute_result"
    }
   ],
   "source": [
    "np.concatenate([a,b])"
   ]
  },
  {
   "cell_type": "code",
   "execution_count": 85,
   "id": "b42db14a",
   "metadata": {},
   "outputs": [
    {
     "data": {
      "text/plain": [
       "array([[ 24,   3,  56],\n",
       "       [ 72,   0,  21],\n",
       "       [152, 207, 368],\n",
       "       [174, 143, 410]])"
      ]
     },
     "execution_count": 85,
     "metadata": {},
     "output_type": "execute_result"
    }
   ],
   "source": [
    "np.vstack([a,b])"
   ]
  },
  {
   "cell_type": "code",
   "execution_count": 86,
   "id": "26a5b9ac",
   "metadata": {},
   "outputs": [
    {
     "data": {
      "text/plain": [
       "array([[ 24,   3,  56, 152, 207, 368],\n",
       "       [ 72,   0,  21, 174, 143, 410]])"
      ]
     },
     "execution_count": 86,
     "metadata": {},
     "output_type": "execute_result"
    }
   ],
   "source": [
    "np.concatenate([a,b], axis=1) #place one next to each other"
   ]
  },
  {
   "cell_type": "code",
   "execution_count": 87,
   "id": "a6a02439",
   "metadata": {},
   "outputs": [
    {
     "data": {
      "text/plain": [
       "array([[ 24,   3,  56, 152, 207, 368],\n",
       "       [ 72,   0,  21, 174, 143, 410]])"
      ]
     },
     "execution_count": 87,
     "metadata": {},
     "output_type": "execute_result"
    }
   ],
   "source": [
    "np.hstack([a,b])"
   ]
  },
  {
   "cell_type": "markdown",
   "id": "25e043bf",
   "metadata": {},
   "source": [
    "# Mathematical Operations on Numpy Arrays"
   ]
  },
  {
   "cell_type": "code",
   "execution_count": 88,
   "id": "3c8ba5e6",
   "metadata": {},
   "outputs": [],
   "source": [
    "x = np.arange(4)"
   ]
  },
  {
   "cell_type": "code",
   "execution_count": 89,
   "id": "c420ce32",
   "metadata": {},
   "outputs": [
    {
     "data": {
      "text/plain": [
       "array([0, 1, 2, 3])"
      ]
     },
     "execution_count": 89,
     "metadata": {},
     "output_type": "execute_result"
    }
   ],
   "source": [
    "x"
   ]
  },
  {
   "cell_type": "code",
   "execution_count": 90,
   "id": "dade0538",
   "metadata": {},
   "outputs": [
    {
     "data": {
      "text/plain": [
       "array([5, 6, 7, 8])"
      ]
     },
     "execution_count": 90,
     "metadata": {},
     "output_type": "execute_result"
    }
   ],
   "source": [
    "x + 5"
   ]
  },
  {
   "cell_type": "code",
   "execution_count": 91,
   "id": "4f768642",
   "metadata": {},
   "outputs": [
    {
     "data": {
      "text/plain": [
       "array([-2, -1,  0,  1])"
      ]
     },
     "execution_count": 91,
     "metadata": {},
     "output_type": "execute_result"
    }
   ],
   "source": [
    "x - 2"
   ]
  },
  {
   "cell_type": "code",
   "execution_count": 92,
   "id": "85f59943",
   "metadata": {},
   "outputs": [
    {
     "data": {
      "text/plain": [
       "array([0. , 0.5, 1. , 1.5])"
      ]
     },
     "execution_count": 92,
     "metadata": {},
     "output_type": "execute_result"
    }
   ],
   "source": [
    "x / 2"
   ]
  },
  {
   "cell_type": "code",
   "execution_count": 93,
   "id": "5f0622d5",
   "metadata": {},
   "outputs": [
    {
     "data": {
      "text/plain": [
       "array([0, 2, 4, 6])"
      ]
     },
     "execution_count": 93,
     "metadata": {},
     "output_type": "execute_result"
    }
   ],
   "source": [
    "x * 2"
   ]
  },
  {
   "cell_type": "code",
   "execution_count": 94,
   "id": "4c261350",
   "metadata": {},
   "outputs": [
    {
     "data": {
      "text/plain": [
       "array([0, 0, 1, 1], dtype=int32)"
      ]
     },
     "execution_count": 94,
     "metadata": {},
     "output_type": "execute_result"
    }
   ],
   "source": [
    "x // 2"
   ]
  },
  {
   "cell_type": "code",
   "execution_count": 95,
   "id": "bd3164fa",
   "metadata": {},
   "outputs": [
    {
     "data": {
      "text/plain": [
       "array([0, 1, 0, 1], dtype=int32)"
      ]
     },
     "execution_count": 95,
     "metadata": {},
     "output_type": "execute_result"
    }
   ],
   "source": [
    "x % 2"
   ]
  },
  {
   "cell_type": "code",
   "execution_count": 96,
   "id": "5a24eef7",
   "metadata": {},
   "outputs": [
    {
     "data": {
      "text/plain": [
       "array([0, 1, 4, 9])"
      ]
     },
     "execution_count": 96,
     "metadata": {},
     "output_type": "execute_result"
    }
   ],
   "source": [
    "x ** 2"
   ]
  },
  {
   "cell_type": "code",
   "execution_count": 97,
   "id": "2cd3e834",
   "metadata": {},
   "outputs": [
    {
     "data": {
      "text/plain": [
       "array([2, 3, 4, 5])"
      ]
     },
     "execution_count": 97,
     "metadata": {},
     "output_type": "execute_result"
    }
   ],
   "source": [
    "np.add(x,2)"
   ]
  },
  {
   "cell_type": "code",
   "execution_count": 98,
   "id": "2674f01a",
   "metadata": {},
   "outputs": [
    {
     "data": {
      "text/plain": [
       "array([-2, -1,  0,  1])"
      ]
     },
     "execution_count": 98,
     "metadata": {},
     "output_type": "execute_result"
    }
   ],
   "source": [
    "np.subtract(x,2)"
   ]
  },
  {
   "cell_type": "markdown",
   "id": "34d74176",
   "metadata": {},
   "source": [
    "# Boolean Indexing"
   ]
  },
  {
   "cell_type": "code",
   "execution_count": 99,
   "id": "1775ad67",
   "metadata": {},
   "outputs": [
    {
     "data": {
      "text/plain": [
       "array([[24,  3, 56],\n",
       "       [72,  0, 21],\n",
       "       [19, 74, 41],\n",
       "       [10, 21, 38],\n",
       "       [96, 20, 44]])"
      ]
     },
     "execution_count": 99,
     "metadata": {},
     "output_type": "execute_result"
    }
   ],
   "source": [
    "z"
   ]
  },
  {
   "cell_type": "code",
   "execution_count": 100,
   "id": "e8d23e89",
   "metadata": {},
   "outputs": [
    {
     "data": {
      "text/plain": [
       "array([[False, False,  True],\n",
       "       [ True, False, False],\n",
       "       [False,  True, False],\n",
       "       [False, False, False],\n",
       "       [ True, False, False]])"
      ]
     },
     "execution_count": 100,
     "metadata": {},
     "output_type": "execute_result"
    }
   ],
   "source": [
    "z > 50"
   ]
  },
  {
   "cell_type": "code",
   "execution_count": 101,
   "id": "1335288b",
   "metadata": {},
   "outputs": [
    {
     "data": {
      "text/plain": [
       "array([56, 72, 74, 96])"
      ]
     },
     "execution_count": 101,
     "metadata": {},
     "output_type": "execute_result"
    }
   ],
   "source": [
    "z[z>50]"
   ]
  },
  {
   "cell_type": "code",
   "execution_count": 102,
   "id": "491a403f",
   "metadata": {},
   "outputs": [
    {
     "data": {
      "text/plain": [
       "array([[2.64891221e+10, 2.00855369e+01, 2.09165950e+24],\n",
       "       [1.85867175e+31, 1.00000000e+00, 1.31881573e+09],\n",
       "       [1.78482301e+08, 1.37338298e+32, 6.39843494e+17],\n",
       "       [2.20264658e+04, 1.31881573e+09, 3.18559318e+16],\n",
       "       [4.92345829e+41, 4.85165195e+08, 1.28516001e+19]])"
      ]
     },
     "execution_count": 102,
     "metadata": {},
     "output_type": "execute_result"
    }
   ],
   "source": [
    "np.exp(z)"
   ]
  },
  {
   "cell_type": "code",
   "execution_count": 103,
   "id": "c07aae26",
   "metadata": {},
   "outputs": [
    {
     "data": {
      "text/plain": [
       "array([[1.67772160e+07, 8.00000000e+00, 7.20575940e+16],\n",
       "       [4.72236648e+21, 1.00000000e+00, 2.09715200e+06],\n",
       "       [5.24288000e+05, 1.88894659e+22, 2.19902326e+12],\n",
       "       [1.02400000e+03, 2.09715200e+06, 2.74877907e+11],\n",
       "       [7.92281625e+28, 1.04857600e+06, 1.75921860e+13]])"
      ]
     },
     "execution_count": 103,
     "metadata": {},
     "output_type": "execute_result"
    }
   ],
   "source": [
    "np.exp2(z)"
   ]
  },
  {
   "cell_type": "code",
   "execution_count": 106,
   "id": "265de2bc",
   "metadata": {},
   "outputs": [
    {
     "data": {
      "text/plain": [
       "8"
      ]
     },
     "execution_count": 106,
     "metadata": {},
     "output_type": "execute_result"
    }
   ],
   "source": [
    "np.power(2,3)"
   ]
  },
  {
   "cell_type": "code",
   "execution_count": 109,
   "id": "f195c8b9",
   "metadata": {},
   "outputs": [
    {
     "name": "stderr",
     "output_type": "stream",
     "text": [
      "C:\\Users\\raths\\AppData\\Local\\Temp\\ipykernel_24936\\2047398432.py:1: RuntimeWarning: divide by zero encountered in log\n",
      "  np.log(z)\n"
     ]
    },
    {
     "data": {
      "text/plain": [
       "array([[3.17805383, 1.09861229, 4.02535169],\n",
       "       [4.27666612,       -inf, 3.04452244],\n",
       "       [2.94443898, 4.30406509, 3.71357207],\n",
       "       [2.30258509, 3.04452244, 3.63758616],\n",
       "       [4.56434819, 2.99573227, 3.78418963]])"
      ]
     },
     "execution_count": 109,
     "metadata": {},
     "output_type": "execute_result"
    }
   ],
   "source": [
    "np.log(z)"
   ]
  },
  {
   "cell_type": "code",
   "execution_count": 110,
   "id": "84fac0b4",
   "metadata": {},
   "outputs": [
    {
     "data": {
      "text/plain": [
       "735.5288888888888"
      ]
     },
     "execution_count": 110,
     "metadata": {},
     "output_type": "execute_result"
    }
   ],
   "source": [
    "np.var(z)"
   ]
  },
  {
   "cell_type": "code",
   "execution_count": 111,
   "id": "973a53fe",
   "metadata": {},
   "outputs": [
    {
     "data": {
      "text/plain": [
       "27.120635849642035"
      ]
     },
     "execution_count": 111,
     "metadata": {},
     "output_type": "execute_result"
    }
   ],
   "source": [
    "np.std(z)"
   ]
  },
  {
   "cell_type": "code",
   "execution_count": 112,
   "id": "4de19c66",
   "metadata": {},
   "outputs": [
    {
     "data": {
      "text/plain": [
       "array([33.67135281, 26.61277889, 11.296017  ])"
      ]
     },
     "execution_count": 112,
     "metadata": {},
     "output_type": "execute_result"
    }
   ],
   "source": [
    "np.std(z,axis=0) #standard deviation"
   ]
  },
  {
   "cell_type": "code",
   "execution_count": 113,
   "id": "bcfd0335",
   "metadata": {},
   "outputs": [
    {
     "data": {
      "text/plain": [
       "0"
      ]
     },
     "execution_count": 113,
     "metadata": {},
     "output_type": "execute_result"
    }
   ],
   "source": [
    "np.min(z)"
   ]
  },
  {
   "cell_type": "code",
   "execution_count": 114,
   "id": "0f056d50",
   "metadata": {},
   "outputs": [
    {
     "data": {
      "text/plain": [
       "96"
      ]
     },
     "execution_count": 114,
     "metadata": {},
     "output_type": "execute_result"
    }
   ],
   "source": [
    "np.max(z)"
   ]
  },
  {
   "cell_type": "code",
   "execution_count": 115,
   "id": "3378529f",
   "metadata": {},
   "outputs": [
    {
     "data": {
      "text/plain": [
       "4"
      ]
     },
     "execution_count": 115,
     "metadata": {},
     "output_type": "execute_result"
    }
   ],
   "source": [
    "np.argmin(z) #index position of minimum value"
   ]
  },
  {
   "cell_type": "code",
   "execution_count": 116,
   "id": "ededdea8",
   "metadata": {},
   "outputs": [
    {
     "data": {
      "text/plain": [
       "12"
      ]
     },
     "execution_count": 116,
     "metadata": {},
     "output_type": "execute_result"
    }
   ],
   "source": [
    "np.argmax(z) #index position of maximum value"
   ]
  },
  {
   "cell_type": "code",
   "execution_count": null,
   "id": "74192197",
   "metadata": {},
   "outputs": [],
   "source": []
  }
 ],
 "metadata": {
  "kernelspec": {
   "display_name": "Python 3 (ipykernel)",
   "language": "python",
   "name": "python3"
  },
  "language_info": {
   "codemirror_mode": {
    "name": "ipython",
    "version": 3
   },
   "file_extension": ".py",
   "mimetype": "text/x-python",
   "name": "python",
   "nbconvert_exporter": "python",
   "pygments_lexer": "ipython3",
   "version": "3.10.9"
  }
 },
 "nbformat": 4,
 "nbformat_minor": 5
}
